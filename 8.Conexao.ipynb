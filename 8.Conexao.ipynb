{
 "cells": [
  {
   "cell_type": "code",
   "execution_count": null,
   "metadata": {},
   "outputs": [],
   "source": [
    "# Formação Cientista de Dados\n",
    "# Conexão Mongodb"
   ]
  },
  {
   "cell_type": "code",
   "execution_count": 18,
   "metadata": {},
   "outputs": [],
   "source": [
    "import json\n",
    "import random\n",
    "from pymongo import MongoClient\n",
    "from datetime import datetime, timedelta"
   ]
  },
  {
   "cell_type": "code",
   "execution_count": 19,
   "metadata": {},
   "outputs": [],
   "source": [
    "# Conexão local padrão\n",
    "cliente = MongoClient('mongodb://localhost:27017/')\n",
    "\n",
    "# Banco dbsenai\n",
    "db = cliente.dbsenai\n",
    "\n",
    "# Coleção posts\n",
    "conexao = db.posts"
   ]
  },
  {
   "cell_type": "code",
   "execution_count": 20,
   "metadata": {},
   "outputs": [
    {
     "name": "stdin",
     "output_type": "stream",
     "text": [
      "Digite seu nome:\n",
      " Maria\n",
      "Digite Data:\n",
      " 19-09-2023\n"
     ]
    },
    {
     "data": {
      "text/plain": [
       "<pymongo.results.InsertOneResult at 0x1493d0c84c0>"
      ]
     },
     "execution_count": 20,
     "metadata": {},
     "output_type": "execute_result"
    }
   ],
   "source": [
    "# Definindo as postagens\n",
    "postagens = [\"Produto bom\", \"Produto Ruim!\", \"Ótima Qualidade!!\", \"Qualidade inferior da nacional\"]\n",
    "\n",
    "nome = input(\"Digite seu nome:\\n\")\n",
    "postagem = random.choice(postagens)\n",
    "data = input(\"Digite Data:\\n\")\n",
    "\n",
    "# Incluindo um documento\n",
    "conexao.insert_one({\"nome\": nome, \"postagem\": postagem, \"data\": data})"
   ]
  },
  {
   "cell_type": "code",
   "execution_count": 22,
   "metadata": {},
   "outputs": [
    {
     "name": "stdout",
     "output_type": "stream",
     "text": [
      "{'_id': ObjectId('650c4f5bf049d0e9ce65b3a9'), 'nome': 'Maria', 'postagem': 'Qualidade inferior da nacional', 'data': '20-09-2023'}\n"
     ]
    }
   ],
   "source": [
    "print(conexao.find_one({\"nome\":nome}))"
   ]
  },
  {
   "cell_type": "code",
   "execution_count": 23,
   "metadata": {},
   "outputs": [
    {
     "name": "stdout",
     "output_type": "stream",
     "text": [
      "{'_id': ObjectId('650c2f8942ea6d42737a4155'), 'nome': 'Mark Harris', 'postagem': 'Ótima Qualidade!!', 'data': '20-09-2023'}\n",
      "{'_id': ObjectId('650c2f8942ea6d42737a4156'), 'nome': 'Terri Johnson', 'postagem': 'Produto bom', 'data': '19-09-2023'}\n",
      "{'_id': ObjectId('650c2f8942ea6d42737a4157'), 'nome': 'Bruce Soto', 'postagem': 'Qualidade inferior da nacional', 'data': '18-09-2023'}\n",
      "{'_id': ObjectId('650c2f8942ea6d42737a4158'), 'nome': 'Paul Jones', 'postagem': 'Produto bom', 'data': '17-09-2023'}\n",
      "{'_id': ObjectId('650c2f8942ea6d42737a4159'), 'nome': 'Allison Peterson', 'postagem': 'Qualidade inferior da nacional', 'data': '16-09-2023'}\n",
      "{'_id': ObjectId('650c2f8942ea6d42737a415a'), 'nome': 'Dr. Jenna Henderson', 'postagem': 'Produto bom', 'data': '15-09-2023'}\n",
      "{'_id': ObjectId('650c2f8942ea6d42737a415b'), 'nome': 'Kelly Martin', 'postagem': 'Produto bom', 'data': '14-09-2023'}\n",
      "{'_id': ObjectId('650c2f8942ea6d42737a415c'), 'nome': 'Vincent Kennedy', 'postagem': 'Ótima Qualidade!!', 'data': '13-09-2023'}\n",
      "{'_id': ObjectId('650c2f8942ea6d42737a415d'), 'nome': 'Nicholas Torres', 'postagem': 'Qualidade inferior da nacional', 'data': '12-09-2023'}\n",
      "{'_id': ObjectId('650c2f8942ea6d42737a415e'), 'nome': 'Cindy Mitchell', 'postagem': 'Qualidade inferior da nacional', 'data': '11-09-2023'}\n",
      "{'_id': ObjectId('650c2f8942ea6d42737a415f'), 'nome': 'Rachel Hernandez', 'postagem': 'Produto bom', 'data': '10-09-2023'}\n",
      "{'_id': ObjectId('650c2f8942ea6d42737a4160'), 'nome': 'Kristine Nelson', 'postagem': 'Produto Ruim!', 'data': '09-09-2023'}\n",
      "{'_id': ObjectId('650c2f8942ea6d42737a4161'), 'nome': 'Jeffrey Graves', 'postagem': 'Produto Ruim!', 'data': '08-09-2023'}\n",
      "{'_id': ObjectId('650c2f8942ea6d42737a4162'), 'nome': 'Donna Choi', 'postagem': 'Produto Ruim!', 'data': '07-09-2023'}\n",
      "{'_id': ObjectId('650c2f8942ea6d42737a4163'), 'nome': 'April Hernandez', 'postagem': 'Produto bom', 'data': '06-09-2023'}\n",
      "{'_id': ObjectId('650c2f8942ea6d42737a4164'), 'nome': 'Angela Cobb', 'postagem': 'Ótima Qualidade!!', 'data': '05-09-2023'}\n",
      "{'_id': ObjectId('650c2f8942ea6d42737a4165'), 'nome': 'Allison Davenport', 'postagem': 'Produto bom', 'data': '04-09-2023'}\n",
      "{'_id': ObjectId('650c2f8942ea6d42737a4166'), 'nome': 'Patricia Wilcox', 'postagem': 'Produto bom', 'data': '03-09-2023'}\n",
      "{'_id': ObjectId('650c2f8942ea6d42737a4167'), 'nome': 'Sarah Anderson', 'postagem': 'Produto Ruim!', 'data': '02-09-2023'}\n",
      "{'_id': ObjectId('650c2f8942ea6d42737a4168'), 'nome': 'Andrea Martinez', 'postagem': 'Ótima Qualidade!!', 'data': '01-09-2023'}\n",
      "{'_id': ObjectId('650c2f8942ea6d42737a4169'), 'nome': 'Kevin Shannon', 'postagem': 'Produto Ruim!', 'data': '31-08-2023'}\n",
      "{'_id': ObjectId('650c2f8942ea6d42737a416a'), 'nome': 'Michelle Simpson', 'postagem': 'Produto bom', 'data': '30-08-2023'}\n",
      "{'_id': ObjectId('650c2f8942ea6d42737a416b'), 'nome': 'Kyle Robinson', 'postagem': 'Qualidade inferior da nacional', 'data': '29-08-2023'}\n",
      "{'_id': ObjectId('650c2f8942ea6d42737a416c'), 'nome': 'Joseph Rosales', 'postagem': 'Qualidade inferior da nacional', 'data': '28-08-2023'}\n",
      "{'_id': ObjectId('650c2f8942ea6d42737a416d'), 'nome': 'Kevin Smith', 'postagem': 'Produto Ruim!', 'data': '27-08-2023'}\n",
      "{'_id': ObjectId('650c2f8942ea6d42737a416e'), 'nome': 'Shelly Roth', 'postagem': 'Produto Ruim!', 'data': '26-08-2023'}\n",
      "{'_id': ObjectId('650c2f8942ea6d42737a416f'), 'nome': 'Jacob May', 'postagem': 'Ótima Qualidade!!', 'data': '25-08-2023'}\n",
      "{'_id': ObjectId('650c2f8942ea6d42737a4170'), 'nome': 'Timothy Hill', 'postagem': 'Ótima Qualidade!!', 'data': '24-08-2023'}\n",
      "{'_id': ObjectId('650c2f8942ea6d42737a4171'), 'nome': 'Michael Levy', 'postagem': 'Produto Ruim!', 'data': '23-08-2023'}\n",
      "{'_id': ObjectId('650c2f8942ea6d42737a4172'), 'nome': 'Diane Rogers', 'postagem': 'Produto bom', 'data': '22-08-2023'}\n",
      "{'_id': ObjectId('650c2f8942ea6d42737a4173'), 'nome': 'Joseph Nguyen', 'postagem': 'Produto bom', 'data': '21-08-2023'}\n",
      "{'_id': ObjectId('650c2f8942ea6d42737a4174'), 'nome': 'Christian Richardson', 'postagem': 'Produto bom', 'data': '20-08-2023'}\n",
      "{'_id': ObjectId('650c2f8942ea6d42737a4175'), 'nome': 'Richard Rose', 'postagem': 'Produto Ruim!', 'data': '19-08-2023'}\n",
      "{'_id': ObjectId('650c2f8942ea6d42737a4176'), 'nome': 'Katherine Cobb', 'postagem': 'Produto bom', 'data': '18-08-2023'}\n",
      "{'_id': ObjectId('650c2f8942ea6d42737a4177'), 'nome': 'Roberto Wheeler', 'postagem': 'Ótima Qualidade!!', 'data': '17-08-2023'}\n",
      "{'_id': ObjectId('650c2f8942ea6d42737a4178'), 'nome': 'Keith White', 'postagem': 'Produto bom', 'data': '16-08-2023'}\n",
      "{'_id': ObjectId('650c2f8942ea6d42737a4179'), 'nome': 'Donna Stark', 'postagem': 'Produto Ruim!', 'data': '15-08-2023'}\n",
      "{'_id': ObjectId('650c2f8942ea6d42737a417a'), 'nome': 'Jordan Choi', 'postagem': 'Ótima Qualidade!!', 'data': '14-08-2023'}\n",
      "{'_id': ObjectId('650c2f8942ea6d42737a417b'), 'nome': 'Andrew Tucker', 'postagem': 'Produto bom', 'data': '13-08-2023'}\n",
      "{'_id': ObjectId('650c2f8942ea6d42737a417c'), 'nome': 'Jasmin Cervantes', 'postagem': 'Qualidade inferior da nacional', 'data': '12-08-2023'}\n",
      "{'_id': ObjectId('650c2f8942ea6d42737a417d'), 'nome': 'Robert Hunt', 'postagem': 'Ótima Qualidade!!', 'data': '11-08-2023'}\n",
      "{'_id': ObjectId('650c2f8942ea6d42737a417e'), 'nome': 'Kathy Simmons', 'postagem': 'Qualidade inferior da nacional', 'data': '10-08-2023'}\n",
      "{'_id': ObjectId('650c2f8942ea6d42737a417f'), 'nome': 'Deborah Martinez', 'postagem': 'Ótima Qualidade!!', 'data': '09-08-2023'}\n",
      "{'_id': ObjectId('650c2f8942ea6d42737a4180'), 'nome': 'Amanda Moore', 'postagem': 'Produto Ruim!', 'data': '08-08-2023'}\n",
      "{'_id': ObjectId('650c2f8942ea6d42737a4181'), 'nome': 'Carrie Smith', 'postagem': 'Produto bom', 'data': '07-08-2023'}\n",
      "{'_id': ObjectId('650c2f8942ea6d42737a4182'), 'nome': 'Christine Rose', 'postagem': 'Produto Ruim!', 'data': '06-08-2023'}\n",
      "{'_id': ObjectId('650c2f8942ea6d42737a4183'), 'nome': 'Brittany Mitchell', 'postagem': 'Qualidade inferior da nacional', 'data': '05-08-2023'}\n",
      "{'_id': ObjectId('650c2f8942ea6d42737a4184'), 'nome': 'Lance Freeman', 'postagem': 'Produto Ruim!', 'data': '04-08-2023'}\n",
      "{'_id': ObjectId('650c2f8942ea6d42737a4185'), 'nome': 'Lauren Lynch', 'postagem': 'Ótima Qualidade!!', 'data': '03-08-2023'}\n",
      "{'_id': ObjectId('650c2f8942ea6d42737a4186'), 'nome': 'Connor Wright', 'postagem': 'Produto bom', 'data': '02-08-2023'}\n",
      "{'_id': ObjectId('650c4e84f7e5026813a5ebe3'), 'nome': 'Joao', 'postagem': 'Qualidade inferior da nacional', 'data': '21-09-2023'}\n",
      "{'_id': ObjectId('650c4f5bf049d0e9ce65b3a9'), 'nome': 'Maria', 'postagem': 'Qualidade inferior da nacional', 'data': '20-09-2023'}\n",
      "{'_id': ObjectId('650c5241f049d0e9ce65b3ab'), 'nome': 'Maria', 'postagem': 'Produto bom', 'data': '19-09-2023'}\n"
     ]
    }
   ],
   "source": [
    "# Imprimindo todos os documentos na coleção\n",
    "for doc in conexao.find():\n",
    "    print(doc)"
   ]
  },
  {
   "cell_type": "code",
   "execution_count": 24,
   "metadata": {},
   "outputs": [],
   "source": [
    "cliente.close()"
   ]
  },
  {
   "cell_type": "code",
   "execution_count": null,
   "metadata": {},
   "outputs": [],
   "source": []
  }
 ],
 "metadata": {
  "kernelspec": {
   "display_name": "Python 3 (ipykernel)",
   "language": "python",
   "name": "python3"
  },
  "language_info": {
   "codemirror_mode": {
    "name": "ipython",
    "version": 3
   },
   "file_extension": ".py",
   "mimetype": "text/x-python",
   "name": "python",
   "nbconvert_exporter": "python",
   "pygments_lexer": "ipython3",
   "version": "3.9.13"
  }
 },
 "nbformat": 4,
 "nbformat_minor": 4
}
